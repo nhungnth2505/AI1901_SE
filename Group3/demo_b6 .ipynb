{
 "cells": [
  {
   "cell_type": "code",
   "execution_count": 1,
   "id": "5f0c8977",
   "metadata": {},
   "outputs": [],
   "source": [
    "# Tập hợp các tài liệu mẫu\n",
    "corpus = {\n",
    "    1: \"Exploring the vibrant world of tropical fish in a home aquarium.\",\n",
    "    2: \"The challenges of maintaining a healthy aquarium for your fish.\",\n",
    "    3: \"A guide to the most popular aquarium fish species.\",\n",
    "    4: \"Tropical birds are known for their bright colors.\",\n",
    "    5: \"Many people enjoy the hobby of keeping fish.\",\n",
    "    6: \"What is the difference between tropical fish and cold-water fish?\"\n",
    "}"
   ]
  },
  {
   "cell_type": "markdown",
   "id": "6f018c40",
   "metadata": {},
   "source": [
    "## Search structured query"
   ]
  },
  {
   "cell_type": "code",
   "execution_count": 2,
   "id": "2cca433e",
   "metadata": {},
   "outputs": [
    {
     "name": "stdout",
     "output_type": "stream",
     "text": [
      "--- Bắt đầu thực hiện Truy vấn có cấu trúc ---\n",
      "  [+] Tìm thấy kết quả trong Tài liệu 1: 'Exploring the vibrant world of tropical fish in a home aquarium.'\n",
      "  [+] Tìm thấy kết quả trong Tài liệu 2: 'The challenges of maintaining a healthy aquarium for your fish.'\n",
      "  [+] Tìm thấy kết quả trong Tài liệu 3: 'A guide to the most popular aquarium fish species.'\n",
      "  [+] Tìm thấy kết quả trong Tài liệu 5: 'Many people enjoy the hobby of keeping fish.'\n",
      "  [+] Tìm thấy kết quả trong Tài liệu 6: 'What is the difference between tropical fish and cold-water fish?'\n",
      "\n",
      "---> Tổng số tài liệu phù hợp: 5\n"
     ]
    }
   ],
   "source": [
    "def search_structured_query(corpus):\n",
    "    \"\"\"\n",
    "    Thực hiện một truy vấn có cấu trúc để tìm các tài liệu phù hợp.\n",
    "    Query: #combine(#od:1(tropical fish), #od:1(aquarium fish), fish)\n",
    "    \"\"\"\n",
    "    print(\"--- Bắt đầu thực hiện Truy vấn có cấu trúc ---\")\n",
    "    matching_docs = []\n",
    "    \n",
    "    for doc_id, content in corpus.items():\n",
    "        # Chuẩn hóa văn bản về chữ thường để tìm kiếm không phân biệt chữ hoa/thường\n",
    "        content_lower = content.lower()\n",
    "        \n",
    "        # Kiểm tra các điều kiện của truy vấn\n",
    "        # 1. Chứa cụm từ \"tropical fish\"\n",
    "        # 2. Hoặc chứa cụm từ \"aquarium fish\"\n",
    "        # 3. Hoặc chứa từ \"fish\"\n",
    "        if \"tropical fish\" in content_lower or \\\n",
    "           \"aquarium fish\" in content_lower or \\\n",
    "           \" fish\" in content_lower or \\\n",
    "           content_lower.startswith(\"fish\"): # Để bắt trường hợp \"fish\" ở đầu câu\n",
    "            \n",
    "            matching_docs.append(doc_id)\n",
    "            print(f\"  [+] Tìm thấy kết quả trong Tài liệu {doc_id}: '{content}'\")\n",
    "            \n",
    "    print(f\"\\n---> Tổng số tài liệu phù hợp: {len(matching_docs)}\")\n",
    "    return matching_docs\n",
    "\n",
    "# Chạy demo\n",
    "structured_results = search_structured_query(corpus)"
   ]
  },
  {
   "cell_type": "markdown",
   "id": "fa9d2f0a",
   "metadata": {},
   "source": [
    "## Search document distributed"
   ]
  },
  {
   "cell_type": "code",
   "execution_count": 3,
   "id": "0e93e3da",
   "metadata": {},
   "outputs": [
    {
     "name": "stdout",
     "output_type": "stream",
     "text": [
      "\n",
      "--- Bắt đầu thực hiện Đánh giá Phân tán theo Tài liệu ---\n",
      "Gửi truy vấn đến Shard 1...\n",
      "--- Bắt đầu thực hiện Truy vấn có cấu trúc ---\n",
      "  [+] Tìm thấy kết quả trong Tài liệu 1: 'Exploring the vibrant world of tropical fish in a home aquarium.'\n",
      "  [+] Tìm thấy kết quả trong Tài liệu 2: 'The challenges of maintaining a healthy aquarium for your fish.'\n",
      "  [+] Tìm thấy kết quả trong Tài liệu 3: 'A guide to the most popular aquarium fish species.'\n",
      "\n",
      "---> Tổng số tài liệu phù hợp: 3\n",
      "\n",
      "Gửi truy vấn đến Shard 2...\n",
      "--- Bắt đầu thực hiện Truy vấn có cấu trúc ---\n",
      "  [+] Tìm thấy kết quả trong Tài liệu 5: 'Many people enjoy the hobby of keeping fish.'\n",
      "  [+] Tìm thấy kết quả trong Tài liệu 6: 'What is the difference between tropical fish and cold-water fish?'\n",
      "\n",
      "---> Tổng số tài liệu phù hợp: 2\n",
      "\n",
      "---> Kết quả cuối cùng sau khi tổng hợp: [1, 2, 3, 5, 6]\n"
     ]
    }
   ],
   "source": [
    "# Chia corpus thành 2 \"mảnh\" (shards), mô phỏng 2 máy chủ khác nhau\n",
    "shard1 = {k: v for k, v in corpus.items() if k <= 3}\n",
    "shard2 = {k: v for k, v in corpus.items() if k > 3}\n",
    "\n",
    "def search_document_distributed(shards):\n",
    "    \"\"\"\n",
    "    Mô phỏng tìm kiếm phân tán theo tài liệu.\n",
    "    Truy vấn được gửi đến tất cả các shard và kết quả được tổng hợp lại.\n",
    "    \"\"\"\n",
    "    print(\"\\n--- Bắt đầu thực hiện Đánh giá Phân tán theo Tài liệu ---\")\n",
    "    all_results = []\n",
    "    \n",
    "    # Gửi truy vấn đến từng shard\n",
    "    print(\"Gửi truy vấn đến Shard 1...\")\n",
    "    results1 = search_structured_query(shard1)\n",
    "    all_results.extend(results1)\n",
    "    \n",
    "    print(\"\\nGửi truy vấn đến Shard 2...\")\n",
    "    results2 = search_structured_query(shard2)\n",
    "    all_results.extend(results2)\n",
    "    \n",
    "    # Loại bỏ các kết quả trùng lặp (nếu có) và sắp xếp\n",
    "    final_results = sorted(list(set(all_results)))\n",
    "    \n",
    "    print(f\"\\n---> Kết quả cuối cùng sau khi tổng hợp: {final_results}\")\n",
    "    return final_results\n",
    "\n",
    "# Chạy demo\n",
    "distributed_results = search_document_distributed([shard1, shard2])"
   ]
  },
  {
   "cell_type": "markdown",
   "id": "baa06c3e",
   "metadata": {},
   "source": [
    "## Inverted Index phân tán"
   ]
  },
  {
   "cell_type": "code",
   "execution_count": 4,
   "id": "1bae7ee2",
   "metadata": {},
   "outputs": [
    {
     "name": "stdout",
     "output_type": "stream",
     "text": [
      "\n",
      "--- Bắt đầu thực hiện Đánh giá Phân tán theo Từ ---\n",
      "Truy vấn: Tìm tài liệu chứa 'tropical và fish'\n",
      "  - Từ 'tropical' được tìm thấy trên 'server2'. Tài liệu chứa nó: [1, 4, 6]\n",
      "  - Từ 'fish' được tìm thấy trên 'server1'. Tài liệu chứa nó: [1, 2, 3, 5, 6]\n",
      "\n",
      "---> Kết quả cuối cùng (giao của các danh sách): [1, 6]\n"
     ]
    }
   ],
   "source": [
    "# Mô phỏng một Inverted Index phân tán\n",
    "# Server 1 quản lý các từ bắt đầu bằng a-m\n",
    "# Server 2 quản lý các từ bắt đầu bằng n-z\n",
    "distributed_inverted_index = {\n",
    "    'server1': {\n",
    "        'aquarium': [1, 2, 3],\n",
    "        'fish': [1, 2, 3, 5, 6],\n",
    "        'guide': [3],\n",
    "        'healthy': [2]\n",
    "    },\n",
    "    'server2': {\n",
    "        'tropical': [1, 4, 6],\n",
    "        'world': [1],\n",
    "        'species': [3]\n",
    "    }\n",
    "}\n",
    "\n",
    "def search_term_distributed(query_terms, index):\n",
    "    \"\"\"\n",
    "    Mô phỏng tìm kiếm phân tán theo từ.\n",
    "    Hệ thống sẽ hỏi các server khác nhau để lấy danh sách tài liệu cho từng từ.\n",
    "    \"\"\"\n",
    "    print(\"\\n--- Bắt đầu thực hiện Đánh giá Phân tán theo Từ ---\")\n",
    "    print(f\"Truy vấn: Tìm tài liệu chứa '{' và '.join(query_terms)}'\")\n",
    "    \n",
    "    # Lấy danh sách tài liệu (postings) từ các server tương ứng\n",
    "    postings = []\n",
    "    for term in query_terms:\n",
    "        if 'a' <= term[0] <= 'm':\n",
    "            server = 'server1'\n",
    "        else:\n",
    "            server = 'server2'\n",
    "        \n",
    "        term_postings = index[server].get(term, [])\n",
    "        postings.append(set(term_postings))\n",
    "        print(f\"  - Từ '{term}' được tìm thấy trên '{server}'. Tài liệu chứa nó: {term_postings}\")\n",
    "        \n",
    "    # Giao (AND) các danh sách để tìm tài liệu chứa TẤT CẢ các từ\n",
    "    if not postings:\n",
    "        return []\n",
    "    \n",
    "    result_set = postings[0].intersection(*postings[1:])\n",
    "    \n",
    "    print(f\"\\n---> Kết quả cuối cùng (giao của các danh sách): {sorted(list(result_set))}\")\n",
    "    return sorted(list(result_set))\n",
    "\n",
    "# Chạy demo cho truy vấn \"tropical fish\"\n",
    "term_results = search_term_distributed(['tropical', 'fish'], distributed_inverted_index)"
   ]
  },
  {
   "cell_type": "markdown",
   "id": "f0fae24f",
   "metadata": {},
   "source": [
    "## Caching"
   ]
  },
  {
   "cell_type": "code",
   "execution_count": 5,
   "id": "be6010c0",
   "metadata": {},
   "outputs": [
    {
     "name": "stdout",
     "output_type": "stream",
     "text": [
      "\n",
      "--- Thực hiện truy vấn: 'aquarium' ---\n",
      "  [CACHE MISS] Không tìm thấy trong cache. Đang thực hiện tính toán...\n",
      "  Lưu kết quả '[1, 2, 3]' vào cache cho truy vấn 'aquarium'.\n",
      "---> Kết quả: [1, 2, 3]\n",
      "\n",
      "--- Thực hiện truy vấn: 'aquarium' ---\n",
      "  [CACHE HIT] Lấy kết quả từ cache.\n",
      "---> Kết quả: [1, 2, 3]\n",
      "\n",
      "--- Thực hiện truy vấn: 'colors' ---\n",
      "  [CACHE MISS] Không tìm thấy trong cache. Đang thực hiện tính toán...\n",
      "  Lưu kết quả '[4]' vào cache cho truy vấn 'colors'.\n",
      "---> Kết quả: [4]\n"
     ]
    }
   ],
   "source": [
    "class QueryProcessor:\n",
    "    def __init__(self, corpus):\n",
    "        self.corpus = corpus\n",
    "        self.cache = {} # Bộ nhớ cache để lưu kết quả\n",
    "\n",
    "    def search(self, query):\n",
    "        \"\"\"\n",
    "        Thực hiện tìm kiếm có sử dụng cache.\n",
    "        \"\"\"\n",
    "        print(f\"\\n--- Thực hiện truy vấn: '{query}' ---\")\n",
    "        \n",
    "        # 1. Kiểm tra xem truy vấn đã có trong cache chưa\n",
    "        if query in self.cache:\n",
    "            print(\"  [CACHE HIT] Lấy kết quả từ cache.\")\n",
    "            return self.cache[query]\n",
    "        \n",
    "        # 2. Nếu không có, thực hiện tìm kiếm (giả sử đây là một quá trình tốn kém)\n",
    "        print(\"  [CACHE MISS] Không tìm thấy trong cache. Đang thực hiện tính toán...\")\n",
    "        results = []\n",
    "        for doc_id, content in self.corpus.items():\n",
    "            if query in content.lower():\n",
    "                results.append(doc_id)\n",
    "        \n",
    "        # 3. Lưu kết quả vào cache\n",
    "        print(f\"  Lưu kết quả '{results}' vào cache cho truy vấn '{query}'.\")\n",
    "        self.cache[query] = results\n",
    "        \n",
    "        return results\n",
    "\n",
    "# Chạy demo\n",
    "processor = QueryProcessor(corpus)\n",
    "\n",
    "# Lần 1: Truy vấn \"aquarium\"\n",
    "results1 = processor.search(\"aquarium\")\n",
    "print(f\"---> Kết quả: {results1}\")\n",
    "\n",
    "# Lần 2: Truy vấn lại \"aquarium\"\n",
    "results2 = processor.search(\"aquarium\")\n",
    "print(f\"---> Kết quả: {results2}\")\n",
    "\n",
    "# Lần 3: Truy vấn mới \"colors\"\n",
    "results3 = processor.search(\"colors\")\n",
    "print(f\"---> Kết quả: {results3}\")"
   ]
  },
  {
   "cell_type": "code",
   "execution_count": null,
   "id": "5e90a0f0",
   "metadata": {},
   "outputs": [],
   "source": []
  }
 ],
 "metadata": {
  "kernelspec": {
   "display_name": "bdsm",
   "language": "python",
   "name": "python3"
  },
  "language_info": {
   "codemirror_mode": {
    "name": "ipython",
    "version": 3
   },
   "file_extension": ".py",
   "mimetype": "text/x-python",
   "name": "python",
   "nbconvert_exporter": "python",
   "pygments_lexer": "ipython3",
   "version": "3.10.18"
  }
 },
 "nbformat": 4,
 "nbformat_minor": 5
}
