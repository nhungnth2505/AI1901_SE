{
 "cells": [
  {
   "cell_type": "code",
   "execution_count": 1,
   "id": "b427141e",
   "metadata": {},
   "outputs": [],
   "source": [
    "# -*- coding: utf-8 -*-\n",
    "\n",
    "def delta_encode(numbers: list[int]) -> list[int]:\n",
    "    \"\"\"\n",
    "    Chuyển một danh sách số nguyên đã sắp xếp thành mã hóa delta.\n",
    "\n",
    "    Args:\n",
    "        numbers: Danh sách các số nguyên đã sắp xếp tăng dần.\n",
    "\n",
    "    Returns:\n",
    "        Danh sách đã được mã hóa delta.\n",
    "    \"\"\"\n",
    "    if not numbers:\n",
    "        return []\n",
    "    \n",
    "    # Số đầu tiên giữ nguyên, các số sau là khoảng cách\n",
    "    deltas = [numbers[0]]\n",
    "    for i in range(1, len(numbers)):\n",
    "        gap = numbers[i] - numbers[i-1]\n",
    "        deltas.append(gap)\n",
    "    return deltas"
   ]
  },
  {
   "cell_type": "code",
   "execution_count": 2,
   "id": "5b0cb357",
   "metadata": {},
   "outputs": [
    {
     "name": "stdout",
     "output_type": "stream",
     "text": [
      "--- DEMO DELTA ENCODING ---\n",
      "Danh sách gốc:     [8, 23, 25, 40, 58, 61, 100, 102]\n",
      "Sau khi mã hóa Delta: [8, 15, 2, 15, 18, 3, 39, 2]\n"
     ]
    }
   ],
   "source": [
    "print(\"--- DEMO DELTA ENCODING ---\")\n",
    "doc_ids = [8, 23, 25, 40, 58, 61, 100, 102]\n",
    "print(f\"Danh sách gốc:     {doc_ids}\")\n",
    "\n",
    "delta_encoded = delta_encode(doc_ids)\n",
    "print(f\"Sau khi mã hóa Delta: {delta_encoded}\")"
   ]
  },
  {
   "cell_type": "code",
   "execution_count": 3,
   "id": "ed7d007e",
   "metadata": {},
   "outputs": [],
   "source": [
    "def vbyte_encode(number: int) -> tuple[bytes, int]:\n",
    "    \"\"\"\n",
    "    Nén một số nguyên bằng V-Byte và trả về số byte đã sử dụng.\n",
    "\n",
    "    Args:\n",
    "        number: Số nguyên không âm cần nén.\n",
    "\n",
    "    Returns:\n",
    "        Một tuple gồm (dữ liệu đã nén dưới dạng bytes, số byte đã dùng).\n",
    "    \"\"\"\n",
    "    # Xử lý trường hợp đặc biệt số 0\n",
    "    if number == 0:\n",
    "        encoded_bytes = bytes([128])   # 10000000\n",
    "        return encoded_bytes, len(encoded_bytes)\n",
    "\n",
    "    byte_list = []\n",
    "    # Lặp để tách số thành các khối 7-bit\n",
    "    while number > 0:\n",
    "        # Lấy 7 bit cuối cùng bằng bitmask    \n",
    "        seven_bits = number & 0x7F\n",
    "        byte_list.insert(0, seven_bits)\n",
    "        \n",
    "        # Dịch phải 7 bit để xử lý phần còn lại của số\n",
    "        number >>= 7\n",
    "\n",
    "    # Byte cuối cùng (bây giờ là phần tử cuối trong list) \n",
    "    # cần được set bit cờ (bit đầu tiên) thành 1.\n",
    "    # 0x80 là 10000000, phép OR sẽ set bit đầu tiên thành 1.\n",
    "    byte_list[-1] |= 0x80  #10000000\n",
    "\n",
    "    # Chuyển danh sách các số thành đối tượng bytes\n",
    "    encoded_bytes = bytes(byte_list)\n",
    "    \n",
    "    return encoded_bytes, len(encoded_bytes)"
   ]
  },
  {
   "cell_type": "code",
   "execution_count": 4,
   "id": "08d91bfc",
   "metadata": {},
   "outputs": [
    {
     "name": "stdout",
     "output_type": "stream",
     "text": [
      "--- DEMO V-BYTE ENCODING ---\n",
      "Số Gốc     | Mã Hex               | Số Byte Đã Dùng\n",
      "---------- | -------------------- | ---------------\n",
      "0          | 80                   | 1\n",
      "6          | 86                   | 1\n",
      "127        | ff                   | 1\n",
      "128        | 01 80                | 2\n",
      "130        | 01 82                | 2\n",
      "16383      | 7f ff                | 2\n",
      "16384      | 01 00 80             | 3\n",
      "20000      | 01 1c a0             | 3\n"
     ]
    }
   ],
   "source": [
    "print(\"--- DEMO V-BYTE ENCODING ---\")\n",
    "\n",
    "# Danh sách các số để kiểm tra, bao gồm các giá trị biên\n",
    "numbers_to_test = [0, 6, 127, 128, 130, 16383, 16384, 20000]\n",
    "\n",
    "print(f\"{'Số Gốc':<10} | {'Mã Hex':<20} | {'Số Byte Đã Dùng'}\")\n",
    "print(f\"{'-'*10} | {'-'*20} | {'-'*15}\")\n",
    "\n",
    "for num in numbers_to_test:\n",
    "\n",
    "    encoded_data, num_bytes = vbyte_encode(num)\n",
    "    \n",
    "    hex_representation = encoded_data.hex(' ')\n",
    "    \n",
    "    print(f\"{num:<10} | {hex_representation:<20} | {num_bytes}\")"
   ]
  }
 ],
 "metadata": {
  "kernelspec": {
   "display_name": "Python 3",
   "language": "python",
   "name": "python3"
  },
  "language_info": {
   "codemirror_mode": {
    "name": "ipython",
    "version": 3
   },
   "file_extension": ".py",
   "mimetype": "text/x-python",
   "name": "python",
   "nbconvert_exporter": "python",
   "pygments_lexer": "ipython3",
   "version": "3.9.8"
  }
 },
 "nbformat": 4,
 "nbformat_minor": 5
}
