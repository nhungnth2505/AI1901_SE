{
  "nbformat": 4,
  "nbformat_minor": 0,
  "metadata": {
    "colab": {
      "provenance": []
    },
    "kernelspec": {
      "name": "python3",
      "display_name": "Python 3"
    },
    "language_info": {
      "name": "python"
    }
  },
  "cells": [
    {
      "cell_type": "code",
      "execution_count": null,
      "metadata": {
        "colab": {
          "base_uri": "https://localhost:8080/"
        },
        "id": "U6tELVEABK1F",
        "outputId": "b2649ba1-d0d8-42d5-c7fe-3503bfb16ed0"
      },
      "outputs": [
        {
          "output_type": "stream",
          "name": "stdout",
          "text": [
            "                                              review sentiment\n",
            "0  One of the other reviewers has mentioned that ...  positive\n",
            "1  A wonderful little production. <br /><br />The...  positive\n",
            "2  I thought this was a wonderful way to spend ti...  positive\n",
            "3  Basically there's a family where a little boy ...  negative\n",
            "4  Petter Mattei's \"Love in the Time of Money\" is...  positive\n",
            "Số lượng mẫu: 50000\n",
            "\n",
            "=== Naive Bayes ===\n",
            "Accuracy: 0.85\n",
            "              precision    recall  f1-score   support\n",
            "\n",
            "           0       0.85      0.86      0.85      7411\n",
            "           1       0.86      0.85      0.86      7589\n",
            "\n",
            "    accuracy                           0.85     15000\n",
            "   macro avg       0.85      0.85      0.85     15000\n",
            "weighted avg       0.85      0.85      0.85     15000\n",
            "\n",
            "\n",
            "=== Support Vector Machine (SVM) ===\n",
            "Accuracy: 0.88\n",
            "              precision    recall  f1-score   support\n",
            "\n",
            "           0       0.89      0.87      0.88      7411\n",
            "           1       0.88      0.89      0.89      7589\n",
            "\n",
            "    accuracy                           0.88     15000\n",
            "   macro avg       0.88      0.88      0.88     15000\n",
            "weighted avg       0.88      0.88      0.88     15000\n",
            "\n"
          ]
        }
      ],
      "source": [
        "# 10.1 Classification Demo: Naive Bayes & SVM (Dùng file CSV)\n",
        "import pandas as pd\n",
        "from sklearn.model_selection import train_test_split\n",
        "from sklearn.feature_extraction.text import TfidfVectorizer\n",
        "from sklearn.naive_bayes import MultinomialNB\n",
        "from sklearn.svm import LinearSVC\n",
        "from sklearn.metrics import classification_report, accuracy_score\n",
        "\n",
        "# --- Đọc dữ liệu từ file CSV ---\n",
        "# 👉 Thay đường dẫn bên dưới bằng đường dẫn file\n",
        "df = pd.read_csv(\"/content/IMDB Dataset.csv\")\n",
        "\n",
        "# Hiển thị vài dòng đầu để kiểm tra\n",
        "print(df.head())\n",
        "\n",
        "# --- Tiền xử lý ---\n",
        "# Chuyển nhãn từ text sang số\n",
        "df['label'] = df['sentiment'].map({'positive': 1, 'negative': 0})\n",
        "\n",
        "# Lấy danh sách dữ liệu và nhãn\n",
        "texts = df['review'].astype(str).tolist()\n",
        "labels = df['label'].tolist()\n",
        "\n",
        "print(\"Số lượng mẫu:\", len(texts))\n",
        "\n",
        "# --- Tách dữ liệu ---\n",
        "X_train, X_test, y_train, y_test = train_test_split(\n",
        "    texts, labels, test_size=0.3, random_state=42\n",
        ")\n",
        "\n",
        "# --- Biểu diễn đặc trưng bằng TF-IDF ---\n",
        "vectorizer = TfidfVectorizer(stop_words='english', max_features=10000)\n",
        "X_train_vec = vectorizer.fit_transform(X_train)\n",
        "X_test_vec = vectorizer.transform(X_test)\n",
        "\n",
        "# --- Naive Bayes ---\n",
        "nb_model = MultinomialNB()\n",
        "nb_model.fit(X_train_vec, y_train)\n",
        "nb_pred = nb_model.predict(X_test_vec)\n",
        "\n",
        "print(\"\\n=== Naive Bayes ===\")\n",
        "print(f\"Accuracy: {accuracy_score(y_test, nb_pred):.2f}\")\n",
        "print(classification_report(y_test, nb_pred, zero_division=0))\n",
        "\n",
        "# --- Support Vector Machine ---\n",
        "svm_model = LinearSVC()\n",
        "svm_model.fit(X_train_vec, y_train)\n",
        "svm_pred = svm_model.predict(X_test_vec)\n",
        "\n",
        "print(\"\\n=== Support Vector Machine (SVM) ===\")\n",
        "print(f\"Accuracy: {accuracy_score(y_test, svm_pred):.2f}\")\n",
        "print(classification_report(y_test, svm_pred, zero_division=0))\n"
      ]
    }
  ]
}