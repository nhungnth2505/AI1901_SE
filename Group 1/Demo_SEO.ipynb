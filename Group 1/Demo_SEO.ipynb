{
  "nbformat": 4,
  "nbformat_minor": 0,
  "metadata": {
    "colab": {
      "provenance": []
    },
    "kernelspec": {
      "name": "python3",
      "display_name": "Python 3"
    },
    "language_info": {
      "name": "python"
    }
  },
  "cells": [
    {
      "cell_type": "code",
      "execution_count": 3,
      "metadata": {
        "colab": {
          "base_uri": "https://localhost:8080/"
        },
        "id": "S2Q_N7d-rkLc",
        "outputId": "0bd1deca-337b-4c55-a9d5-93e98c19a41e"
      },
      "outputs": [
        {
          "output_type": "stream",
          "name": "stdout",
          "text": [
            "Title: 10 Delicious and Nutritious Healthy Breakfast Ideas\n",
            "Meta Description: Explore a variety of quick and nutritious breakfast ideas that will kickstart your day.\n",
            "\n",
            "Content:\n",
            "fHeader: Smoothie Bowl Recipes: Include various fruit combinations...\n",
            "fHeader: High-Protein Breakfasts: Try scrambled eggs with spinach...\n"
          ]
        }
      ],
      "source": [
        "class BlogPost:\n",
        "    def __init__(self, title, content):\n",
        "        self.title = title\n",
        "        self.content = content\n",
        "        self.keywords = []  # Danh sách từ khóa\n",
        "        self.meta_description = \"\"\n",
        "        self.headers = []\n",
        "\n",
        "    def add_keyword(self, keyword):\n",
        "        self.keywords.append(keyword)\n",
        "\n",
        "    def optimize_meta(self, meta_description):\n",
        "        self.meta_description = meta_description\n",
        "\n",
        "    def optimize_headers(self, headers):\n",
        "        self.headers = headers\n",
        "\n",
        "    def display_optimized_content(self):\n",
        "        print(f\"Title: {self.title}\")\n",
        "        print(f\"Meta Description: {self.meta_description}\")\n",
        "        print(f\"\\nContent:\")\n",
        "        for header, text in self.content.items():\n",
        "            print(f\"fHeader: {header}: {text}\")\n",
        "\n",
        "# Tạo một thể hiện (instance) của Blog Post\n",
        "post = BlogPost(\n",
        "    title=\"10 Delicious and Nutritious Healthy Breakfast Ideas\",\n",
        "    content={\n",
        "        \"Smoothie Bowl Recipes\": \"Include various fruit combinations...\",\n",
        "        \"High-Protein Breakfasts\": \"Try scrambled eggs with spinach...\"\n",
        "    }\n",
        ")\n",
        "\n",
        "# Thêm từ khóa\n",
        "post.add_keyword(\"healthy breakfast ideas\")\n",
        "post.add_keyword(\"quick healthy breakfast recipes\")\n",
        "post.add_keyword(\"nutritious morning meals\")\n",
        "\n",
        "# Tối ưu hóa mô tả meta\n",
        "post.optimize_meta(\"Explore a variety of quick and nutritious breakfast ideas that will kickstart your day.\")\n",
        "\n",
        "# Tối ưu hóa headers (tiêu đề phụ)\n",
        "post.optimize_headers([\"Smoothie Bowl Recipes\", \"High-Protein Breakfasts\"])\n",
        "\n",
        "# Hiển thị nội dung đã tối ưu hóa\n",
        "post.display_optimized_content()"
      ]
    },
    {
      "cell_type": "code",
      "source": [
        "# Sample web pages with their attributes\n",
        "web_pages = [\n",
        "    {\"title\": \"Page A\", \"relevance\": 0.8, \"authority\": 0.7, \"engagement\": 0.6},\n",
        "    {\"title\": \"Page B\", \"relevance\": 0.7, \"authority\": 0.8, \"engagement\": 0.8},\n",
        "    {\"title\": \"Page C\", \"relevance\": 0.9, \"authority\": 0.6, \"engagement\": 0.5},\n",
        "    {\"title\": \"Page D\", \"relevance\": 0.6, \"authority\": 0.5, \"engagement\": 0.7},\n",
        "]\n",
        "\n",
        "# Factors and their weights (Weighted Sum calculation)\n",
        "weights = {\n",
        "    \"relevance\": 0.4,\n",
        "    \"authority\": 0.3,\n",
        "    \"engagement\": 0.3,\n",
        "}\n",
        "\n",
        "# Calculate ranking scores for each page\n",
        "for page in web_pages:\n",
        "    ranking_score = 0\n",
        "    for factor, weight in weights.items():\n",
        "        # Score = Sum (Attribute Value * Weight)\n",
        "        ranking_score += page[factor] * weight\n",
        "    page[\"ranking_score\"] = ranking_score\n",
        "\n",
        "# Sort pages based on ranking scores in descending order\n",
        "sorted_pages = sorted(web_pages, key=lambda x: x[\"ranking_score\"], reverse=True)\n",
        "\n",
        "# Display the sorted pages\n",
        "for page in sorted_pages:\n",
        "    # Định dạng điểm chỉ lấy 2 chữ số thập phân\n",
        "    print(f\"Title: {page['title']} | Ranking Score: {page['ranking_score']:.2f}\")"
      ],
      "metadata": {
        "colab": {
          "base_uri": "https://localhost:8080/"
        },
        "id": "l3c7C4J3rl09",
        "outputId": "4f5c66ca-1ccf-42cc-a425-ee0558c0069d"
      },
      "execution_count": 4,
      "outputs": [
        {
          "output_type": "stream",
          "name": "stdout",
          "text": [
            "Title: Page B | Ranking Score: 0.76\n",
            "Title: Page A | Ranking Score: 0.71\n",
            "Title: Page C | Ranking Score: 0.69\n",
            "Title: Page D | Ranking Score: 0.60\n"
          ]
        }
      ]
    },
    {
      "cell_type": "code",
      "source": [],
      "metadata": {
        "id": "8E0q3_3tAmEQ"
      },
      "execution_count": null,
      "outputs": []
    }
  ]
}